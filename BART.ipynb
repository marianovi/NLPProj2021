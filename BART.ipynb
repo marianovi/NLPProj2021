{
 "cells": [
  {
   "cell_type": "code",
   "execution_count": null,
   "metadata": {
    "execution": {
     "iopub.execute_input": "2021-09-10T19:05:31.902144Z",
     "iopub.status.busy": "2021-09-10T19:05:31.901751Z",
     "iopub.status.idle": "2021-09-10T19:05:53.796463Z",
     "shell.execute_reply": "2021-09-10T19:05:53.795570Z",
     "shell.execute_reply.started": "2021-09-10T19:05:31.902044Z"
    }
   },
   "outputs": [],
   "source": [
    "# Installations\n",
    "!pip install transformers\n",
    "!pip install datasets\n",
    "!pip install openpyxl"
   ]
  },
  {
   "cell_type": "code",
   "execution_count": null,
   "metadata": {
    "execution": {
     "iopub.execute_input": "2021-09-10T19:06:03.273674Z",
     "iopub.status.busy": "2021-09-10T19:06:03.273040Z",
     "iopub.status.idle": "2021-09-10T19:06:14.127414Z",
     "shell.execute_reply": "2021-09-10T19:06:14.126504Z",
     "shell.execute_reply.started": "2021-09-10T19:06:03.273633Z"
    }
   },
   "outputs": [],
   "source": [
    "# Imports\n",
    "from datasets import load_dataset\n",
    "from transformers import BartTokenizer\n",
    "from transformers import BartForConditionalGeneration, Trainer, TrainingArguments, Seq2SeqTrainer, Seq2SeqTrainingArguments\n",
    "from sklearn.metrics import accuracy_score, recall_score, precision_score, f1_score\n",
    "import numpy as np\n",
    "import pandas as pd\n",
    "import openpyxl\n",
    "from transformers import AutoTokenizer\n",
    "import csv\n",
    "from csv import reader"
   ]
  },
  {
   "cell_type": "code",
   "execution_count": null,
   "metadata": {
    "execution": {
     "iopub.execute_input": "2021-09-10T19:06:23.855665Z",
     "iopub.status.busy": "2021-09-10T19:06:23.854920Z",
     "iopub.status.idle": "2021-09-10T19:06:24.048829Z",
     "shell.execute_reply": "2021-09-10T19:06:24.047872Z",
     "shell.execute_reply.started": "2021-09-10T19:06:23.855626Z"
    }
   },
   "outputs": [],
   "source": [
    "# Loading the dataset\n",
    "dataset_file = 'dataset.csv'\n",
    "dataset = load_dataset('csv', data_files=dataset_file, split='train')\n",
    "dataset = dataset.train_test_split(test_size=0.1)\n",
    "train_dataset = dataset['train']\n",
    "val_dataset = dataset['test']"
   ]
  },
  {
   "cell_type": "code",
   "execution_count": null,
   "metadata": {
    "execution": {
     "iopub.execute_input": "2021-09-10T19:06:27.340650Z",
     "iopub.status.busy": "2021-09-10T19:06:27.339975Z",
     "iopub.status.idle": "2021-09-10T19:06:31.983008Z",
     "shell.execute_reply": "2021-09-10T19:06:31.982122Z",
     "shell.execute_reply.started": "2021-09-10T19:06:27.340610Z"
    }
   },
   "outputs": [],
   "source": [
    "# Tokenization\n",
    "tokenizer = BartTokenizer.from_pretrained('facebook/bart-base')\n",
    "\n",
    "def tokenize(batch):\n",
    "    tokenized_input = tokenizer(batch['source'], padding='max_length', truncation=True, max_length=900)\n",
    "    tokenized_label = tokenizer(batch['target'], padding='max_length', truncation=True, max_length=900)\n",
    "    tokenized_input['labels'] = tokenized_label['input_ids']\n",
    "    return tokenized_input\n",
    "\n",
    "train_dataset = train_dataset.map(tokenize, batched=True, batch_size=512)\n",
    "val_dataset = val_dataset.map(tokenize, batched=True, batch_size=len(val_dataset))"
   ]
  },
  {
   "cell_type": "code",
   "execution_count": null,
   "metadata": {
    "execution": {
     "iopub.execute_input": "2021-09-10T19:06:43.042871Z",
     "iopub.status.busy": "2021-09-10T19:06:43.042141Z",
     "iopub.status.idle": "2021-09-10T19:07:26.828598Z",
     "shell.execute_reply": "2021-09-10T19:07:26.827688Z",
     "shell.execute_reply.started": "2021-09-10T19:06:43.042837Z"
    }
   },
   "outputs": [],
   "source": [
    "# Training\n",
    "model = BartForConditionalGeneration.from_pretrained('facebook/bart-base')\n",
    "output_dir = 'output'\n",
    "\n",
    "training_args = TrainingArguments(\n",
    "    output_dir=output_dir,\n",
    "    num_train_epochs=6,\n",
    "    per_device_train_batch_size=1,\n",
    "    per_device_eval_batch_size=1,\n",
    "    eval_accumulation_steps=1, \n",
    "    learning_rate=0.0001,\n",
    "    evaluation_strategy='steps', \n",
    "    remove_unused_columns=True, \n",
    "    run_name='run_name', \n",
    "    logging_steps=1000, \n",
    "    eval_steps=1000,\n",
    "    adam_beta1=0.7,\n",
    "    adam_beta2=0.9,\n",
    "    adam_epsilon=1.8e-8 \n",
    ")\n",
    "\n",
    "trainer = Trainer(\n",
    "    model=model,\n",
    "    args=training_args,\n",
    "    train_dataset=train_dataset,\n",
    "    eval_dataset=val_dataset\n",
    ")\n",
    "\n",
    "trainer.train()\n",
    "trainer.save_model(output_dir + '/model')"
   ]
  },
  {
   "cell_type": "code",
   "execution_count": null,
   "metadata": {},
   "outputs": [],
   "source": [
    "# Evaluation\n",
    "model_dir = 'output/model'\n",
    "output_dir = 'output'\n",
    "model = BartForConditionalGeneration.from_pretrained(model_dir)\n",
    "\n",
    "def compute_metrics(p):\n",
    "    pred, labels = p\n",
    "    pred = np.argmax(pred[0], axis=2)\n",
    "    accuracy = accuracy_score(y_true=labels[0], y_pred=pred[0])\n",
    "    recall = recall_score(y_true=labels[0], y_pred=pred[0], average='macro')\n",
    "    precision = precision_score(y_true=labels[0], y_pred=pred[0], average='macro')\n",
    "    f1 = f1_score(y_true=labels[0], y_pred=pred[0], average='macro')\n",
    "    \n",
    "    return {\"accuracy\": accuracy, \"precision\": precision, \"recall\": recall, \"f1\": f1}\n",
    "\n",
    "pred_args = TrainingArguments(\n",
    "    output_dir=output_dir,\n",
    "    per_device_eval_batch_size=1,\n",
    "    remove_unused_columns=True,\n",
    "    eval_accumulation_steps=1\n",
    ")\n",
    "\n",
    "trainer = Trainer(model=model, args=pred_args, compute_metrics=compute_metrics)\n",
    "\n",
    "preds, labels, metrics = trainer.predict(val_dataset)\n",
    "preds_tokens = preds[0].argmax(axis=2)\n",
    "print(metrics)\n",
    "\n",
    "decoded_sources = []\n",
    "for row in val_dataset:\n",
    "    decoded_sources.append(tokenizer.decode(row['input_ids']))\n",
    "\n",
    "decoded_preds = [tokenizer.decode(pred) for pred in preds_tokens]\n",
    "decoded_labels = [tokenizer.decode(label) for label in labels]\n",
    "\n",
    "output = pd.DataFrame({'Source Text': decoded_sources, 'Target Text': decoded_labels, 'Generated Text': decoded_preds})\n",
    "output.to_csv(output_dir + \"/predictions.csv\")"
   ]
  },
  {
   "cell_type": "code",
   "execution_count": null,
   "metadata": {},
   "outputs": [],
   "source": [
    "dataset_file = 'dev_dataset.csv'\n",
    "dev_dataset = load_dataset('csv', data_files=dataset_file, split='train')\n",
    "\n",
    "tokenizer = BartTokenizer.from_pretrained('facebook/bart-base')\n",
    "\n",
    "def tokenize(batch):\n",
    "    tokenized_input = tokenizer(batch['source'], padding='max_length', truncation=True, max_length=900)\n",
    "    tokenized_label = tokenizer(batch['target'], padding='max_length', truncation=True, max_length=900)\n",
    "    tokenized_input['labels'] = tokenized_label['input_ids']\n",
    "    return tokenized_input\n",
    "\n",
    "dev_dataset = dev_dataset.map(tokenize, batched=True, batch_size=len(dev_dataset))"
   ]
  },
  {
   "cell_type": "code",
   "execution_count": null,
   "metadata": {
    "execution": {
     "iopub.execute_input": "2021-09-10T19:07:30.782403Z",
     "iopub.status.busy": "2021-09-10T19:07:30.782102Z",
     "iopub.status.idle": "2021-09-10T19:08:38.907349Z",
     "shell.execute_reply": "2021-09-10T19:08:38.906580Z",
     "shell.execute_reply.started": "2021-09-10T19:07:30.782369Z"
    }
   },
   "outputs": [],
   "source": [
    "#Predict with beam search\n",
    "model_dir = 'output/model'\n",
    "output_dir = 'output'\n",
    "model = BartForConditionalGeneration.from_pretrained(model_dir)\n",
    "\n",
    "pred_args = Seq2SeqTrainingArguments(\n",
    "    output_dir=output_dir,\n",
    "    per_device_eval_batch_size=1,\n",
    "    remove_unused_columns=True,\n",
    "    eval_accumulation_steps=1,\n",
    "    predict_with_generate=True\n",
    ")\n",
    "\n",
    "trainer = Seq2SeqTrainer(model=model, args=pred_args, tokenizer=AutoTokenizer.from_pretrained('facebook/bart-base'))\n",
    "\n",
    "preds, labels, metrics = trainer.predict(dev_dataset, num_beams=3, max_length=900)\n",
    "preds_tokens = preds\n",
    "\n",
    "decoded_sources = []\n",
    "for row in dev_dataset:\n",
    "    decoded_sources.append(tokenizer.decode(row['input_ids']))\n",
    "\n",
    "decoded_preds = [tokenizer.decode(pred) for pred in preds_tokens]\n",
    "decoded_labels = [tokenizer.decode(label) for label in labels]\n",
    "\n",
    "output = pd.DataFrame({'Source Text': decoded_sources, 'Target Text': decoded_labels, 'Generated Text': decoded_preds})\n",
    "output.to_csv(output_dir + \"/beam_predictions.csv\")"
   ]
  }
 ],
 "metadata": {
  "kernelspec": {
   "display_name": "Python 3",
   "language": "python",
   "name": "python3"
  },
  "language_info": {
   "codemirror_mode": {
    "name": "ipython",
    "version": 3
   },
   "file_extension": ".py",
   "mimetype": "text/x-python",
   "name": "python",
   "nbconvert_exporter": "python",
   "pygments_lexer": "ipython3",
   "version": "3.7.4"
  }
 },
 "nbformat": 4,
 "nbformat_minor": 4
}

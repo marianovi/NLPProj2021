{
 "cells": [
  {
   "cell_type": "code",
   "execution_count": null,
   "metadata": {
    "_cell_guid": "b1076dfc-b9ad-4769-8c92-a6c4dae69d19",
    "_uuid": "8f2839f25d086af736a60e9eeb907d3b93b6e0e5"
   },
   "outputs": [],
   "source": [
    "# Installations\n",
    "!pip install transformers\n",
    "!pip install datasets\n",
    "!pip install openpyxl"
   ]
  },
  {
   "cell_type": "code",
   "execution_count": null,
   "metadata": {},
   "outputs": [],
   "source": [
    "# Imports\n",
    "from datasets import load_dataset\n",
    "from transformers import T5Tokenizer\n",
    "from transformers import T5ForConditionalGeneration, T5Config, Trainer, TrainingArguments, Seq2SeqTrainingArguments, Seq2SeqTrainer\n",
    "from sklearn.metrics import accuracy_score, recall_score, precision_score, f1_score\n",
    "import numpy as np\n",
    "import pandas as pd\n",
    "import openpyxl\n",
    "from transformers import AutoTokenizer\n",
    "from csv import reader"
   ]
  },
  {
   "cell_type": "code",
   "execution_count": null,
   "metadata": {},
   "outputs": [],
   "source": [
    "# Loading the dataset\n",
    "dataset_file = 'dataset.csv'\n",
    "dataset = load_dataset('csv', data_files=dataset_file, split='train')\n",
    "dataset = dataset.train_test_split(test_size=0.1)\n",
    "train_dataset = dataset['train']\n",
    "val_dataset = dataset['test']"
   ]
  },
  {
   "cell_type": "code",
   "execution_count": null,
   "metadata": {},
   "outputs": [],
   "source": [
    "# Tokenization\n",
    "tokenizer = T5Tokenizer.from_pretrained('t5-base')\n",
    "\n",
    "def tokenize(batch):\n",
    "    tokenized_input = tokenizer(batch['source'], padding='max_length', truncation=True, max_length=900)\n",
    "    tokenized_label = tokenizer(batch['target'], padding='max_length', truncation=True, max_length=900)\n",
    "    tokenized_input['labels'] = tokenized_label['input_ids']\n",
    "    return tokenized_input\n",
    "\n",
    "dataset = dataset.map(tokenize, batched=True, batch_size=512)\n",
    "train_dataset = train_dataset.map(tokenize, batched=True, batch_size=512)\n",
    "val_dataset = val_dataset.map(tokenize, batched=True, batch_size=len(val_dataset))"
   ]
  },
  {
   "cell_type": "code",
   "execution_count": null,
   "metadata": {},
   "outputs": [],
   "source": [
    "# Training\n",
    "# load config\n",
    "config = T5Config(decoder_start_token_id=tokenizer.convert_tokens_to_ids(['<pad>'])[0])\n",
    "model = T5ForConditionalGeneration(config)\n",
    "output_dir = 'output'\n",
    "\n",
    "training_args = TrainingArguments(\n",
    "    output_dir=output_dir,\n",
    "    num_train_epochs=15,\n",
    "    per_device_train_batch_size=1,\n",
    "    per_device_eval_batch_size=1,\n",
    "    eval_accumulation_steps=1,\n",
    "    evaluation_strategy='steps', \n",
    "    remove_unused_columns=True, \n",
    "    run_name='run_name', \n",
    "    logging_steps=1000, \n",
    "    eval_steps=1000,\n",
    ")\n",
    "\n",
    "trainer = Trainer(\n",
    "    model=model,\n",
    "    args=training_args,\n",
    "    train_dataset=train_dataset,\n",
    "    eval_dataset=val_dataset\n",
    ")\n",
    "trainer.train()\n",
    "trainer.save_model(output_dir + '/model')"
   ]
  },
  {
   "cell_type": "code",
   "execution_count": null,
   "metadata": {},
   "outputs": [],
   "source": [
    "# Evaluation\n",
    "model_dir = 'output/model'\n",
    "output_dir = 'output'\n",
    "model = T5ForConditionalGeneration.from_pretrained(model_dir)\n",
    "\n",
    "def compute_metrics(p):\n",
    "    pred, labels = p\n",
    "    pred = np.argmax(pred[0], axis=2)\n",
    "    accuracy = accuracy_score(y_true=labels[0], y_pred=pred[0])\n",
    "    recall = recall_score(y_true=labels[0], y_pred=pred[0], average='macro')\n",
    "    precision = precision_score(y_true=labels[0], y_pred=pred[0], average='macro')\n",
    "    f1 = f1_score(y_true=labels[0], y_pred=pred[0], average='macro')\n",
    "    return {\"accuracy\": accuracy, \"precision\": precision, \"recall\": recall, \"f1\": f1}\n",
    "\n",
    "pred_args = TrainingArguments(\n",
    "    output_dir=output_dir,\n",
    "    per_device_eval_batch_size=1,\n",
    "    remove_unused_columns=True,\n",
    "    eval_accumulation_steps=1\n",
    ")\n",
    "\n",
    "trainer = Trainer(model=model, args=pred_args, compute_metrics=compute_metrics)\n",
    "\n",
    "preds, labels, metrics = trainer.predict(val_dataset)\n",
    "preds_tokens = preds[0].argmax(axis=2)\n",
    "print(metrics)\n",
    "\n",
    "decoded_sources = []\n",
    "for row in val_dataset:\n",
    "    decoded_sources.append(tokenizer.decode(row['input_ids']))\n",
    "\n",
    "decoded_preds = [tokenizer.decode(pred) for pred in preds_tokens]\n",
    "decoded_labels = [tokenizer.decode(label) for label in labels]\n",
    "\n",
    "output = pd.DataFrame({'Source Text': decoded_sources, 'Target Text': decoded_labels, 'Generated Text': decoded_preds})\n",
    "output.to_csv(output_dir + \"/predictions.csv\")"
   ]
  },
  {
   "cell_type": "code",
   "execution_count": null,
   "metadata": {},
   "outputs": [],
   "source": [
    "dataset_file = 'dev_dataset.csv'\n",
    "dev_dataset = load_dataset('csv', data_files=dataset_file, split='train')\n",
    "\n",
    "tokenizer = T5Tokenizer.from_pretrained('t5-base')\n",
    "\n",
    "def tokenize(batch):\n",
    "    tokenized_input = tokenizer(batch['source'], padding='max_length', truncation=True, max_length=900)\n",
    "    tokenized_label = tokenizer(batch['target'], padding='max_length', truncation=True, max_length=900)\n",
    "    tokenized_input['labels'] = tokenized_label['input_ids']\n",
    "    return tokenized_input\n",
    "\n",
    "dev_dataset = dev_dataset.map(tokenize, batched=True, batch_size=len(dev_dataset))"
   ]
  },
  {
   "cell_type": "code",
   "execution_count": null,
   "metadata": {},
   "outputs": [],
   "source": [
    "#Predict with beam search\n",
    "model_dir = 'output/model'\n",
    "output_dir = 'output'\n",
    "model = T5ForConditionalGeneration.from_pretrained(model_dir)\n",
    "\n",
    "pred_args = Seq2SeqTrainingArguments(\n",
    "    output_dir=output_dir,\n",
    "    per_device_eval_batch_size=1,\n",
    "    remove_unused_columns=True,\n",
    "    eval_accumulation_steps=1,\n",
    "    predict_with_generate=True\n",
    ")\n",
    "\n",
    "trainer = Seq2SeqTrainer(model=model, args=pred_args, tokenizer=AutoTokenizer.from_pretrained('t5-base'))\n",
    "\n",
    "preds, labels, metrics = trainer.predict(dev_dataset, num_beams=3, max_length=900)\n",
    "preds_tokens = preds\n",
    "\n",
    "decoded_sources = []\n",
    "for row in dev_dataset:\n",
    "    decoded_sources.append(tokenizer.decode(row['input_ids']))\n",
    "\n",
    "decoded_preds = [tokenizer.decode(pred) for pred in preds_tokens]\n",
    "decoded_labels = [tokenizer.decode(label) for label in labels]\n",
    "\n",
    "output = pd.DataFrame({'Source Text': decoded_sources, 'Target Text': decoded_labels, 'Generated Text': decoded_preds})\n",
    "output.to_csv(output_dir + \"/beam_predictions.csv\")"
   ]
  }
 ],
 "metadata": {
  "kernelspec": {
   "display_name": "Python 3",
   "language": "python",
   "name": "python3"
  },
  "language_info": {
   "codemirror_mode": {
    "name": "ipython",
    "version": 3
   },
   "file_extension": ".py",
   "mimetype": "text/x-python",
   "name": "python",
   "nbconvert_exporter": "python",
   "pygments_lexer": "ipython3",
   "version": "3.7.4"
  }
 },
 "nbformat": 4,
 "nbformat_minor": 4
}
